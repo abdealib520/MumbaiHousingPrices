{
 "cells": [
  {
   "cell_type": "code",
   "execution_count": 38,
   "id": "0c7fe5cf",
   "metadata": {},
   "outputs": [],
   "source": [
    "import numpy as np\n",
    "import pandas as pd\n",
    "import matplotlib.pyplot as plt\n",
    "import seaborn as sns\n",
    "import re\n",
    "import warnings\n",
    "warnings.filterwarnings('ignore')"
   ]
  },
  {
   "cell_type": "code",
   "execution_count": 2,
   "id": "3668c736",
   "metadata": {},
   "outputs": [
    {
     "data": {
      "text/html": [
       "<div>\n",
       "<style scoped>\n",
       "    .dataframe tbody tr th:only-of-type {\n",
       "        vertical-align: middle;\n",
       "    }\n",
       "\n",
       "    .dataframe tbody tr th {\n",
       "        vertical-align: top;\n",
       "    }\n",
       "\n",
       "    .dataframe thead th {\n",
       "        text-align: right;\n",
       "    }\n",
       "</style>\n",
       "<table border=\"1\" class=\"dataframe\">\n",
       "  <thead>\n",
       "    <tr style=\"text-align: right;\">\n",
       "      <th></th>\n",
       "      <th>Price</th>\n",
       "      <th>Location</th>\n",
       "      <th>Area</th>\n",
       "      <th>Amenities</th>\n",
       "      <th>BHK</th>\n",
       "    </tr>\n",
       "  </thead>\n",
       "  <tbody>\n",
       "    <tr>\n",
       "      <th>0</th>\n",
       "      <td>₹6.50 Cr</td>\n",
       "      <td>Andheri East., Andheri East, Mumbai - Western ...</td>\n",
       "      <td>2300sqft</td>\n",
       "      <td>Lift,Power Back Up,Park,</td>\n",
       "      <td>4 BHK</td>\n",
       "    </tr>\n",
       "    <tr>\n",
       "      <th>1</th>\n",
       "      <td>₹4.0 Cr</td>\n",
       "      <td>Malad West, Mumbai, Kanchpada, Mumbai - North ...</td>\n",
       "      <td>1226sqft</td>\n",
       "      <td>NaN</td>\n",
       "      <td>4 BHK</td>\n",
       "    </tr>\n",
       "    <tr>\n",
       "      <th>2</th>\n",
       "      <td>₹12.0 Cr</td>\n",
       "      <td>Andheri West, Mumbai, Lokhandwala Complex, Mum...</td>\n",
       "      <td>3050sqft</td>\n",
       "      <td>NaN</td>\n",
       "      <td>4 BHK</td>\n",
       "    </tr>\n",
       "    <tr>\n",
       "      <th>3</th>\n",
       "      <td>₹5.0 Cr</td>\n",
       "      <td>Aarti Building Arya Nagar Tulsiwadi Tardeo Mum...</td>\n",
       "      <td>750sqft</td>\n",
       "      <td>NaN</td>\n",
       "      <td>2 BHK</td>\n",
       "    </tr>\n",
       "    <tr>\n",
       "      <th>4</th>\n",
       "      <td>₹4.06 Cr</td>\n",
       "      <td>Malad West, Mumbai, Kanchpada, Mumbai - North ...</td>\n",
       "      <td>1320sqft</td>\n",
       "      <td>NaN</td>\n",
       "      <td>4 BHK</td>\n",
       "    </tr>\n",
       "  </tbody>\n",
       "</table>\n",
       "</div>"
      ],
      "text/plain": [
       "      Price                                           Location      Area  \\\n",
       "0  ₹6.50 Cr  Andheri East., Andheri East, Mumbai - Western ...  2300sqft   \n",
       "1   ₹4.0 Cr  Malad West, Mumbai, Kanchpada, Mumbai - North ...  1226sqft   \n",
       "2  ₹12.0 Cr  Andheri West, Mumbai, Lokhandwala Complex, Mum...  3050sqft   \n",
       "3   ₹5.0 Cr  Aarti Building Arya Nagar Tulsiwadi Tardeo Mum...   750sqft   \n",
       "4  ₹4.06 Cr  Malad West, Mumbai, Kanchpada, Mumbai - North ...  1320sqft   \n",
       "\n",
       "                  Amenities    BHK  \n",
       "0  Lift,Power Back Up,Park,  4 BHK  \n",
       "1                       NaN  4 BHK  \n",
       "2                       NaN  4 BHK  \n",
       "3                       NaN  2 BHK  \n",
       "4                       NaN  4 BHK  "
      ]
     },
     "execution_count": 2,
     "metadata": {},
     "output_type": "execute_result"
    }
   ],
   "source": [
    "df1 = pd.read_csv('HousePrices.csv')\n",
    "df1.head()"
   ]
  },
  {
   "cell_type": "code",
   "execution_count": 32,
   "id": "7c269680",
   "metadata": {},
   "outputs": [
    {
     "data": {
      "text/plain": [
       "(6726, 5)"
      ]
     },
     "execution_count": 32,
     "metadata": {},
     "output_type": "execute_result"
    }
   ],
   "source": [
    "df1.shape"
   ]
  },
  {
   "cell_type": "code",
   "execution_count": 3,
   "id": "cb175c43",
   "metadata": {},
   "outputs": [
    {
     "data": {
      "text/plain": [
       "4 BHK    1500\n",
       "3 BHK    1500\n",
       "2 BHK    1499\n",
       "1 BHK    1080\n",
       "5 BHK     752\n",
       "6 BHK     258\n",
       "8 BHK      59\n",
       "7 BHK      49\n",
       "0 BHK      23\n",
       "9 BHK       6\n",
       "Name: BHK, dtype: int64"
      ]
     },
     "execution_count": 3,
     "metadata": {},
     "output_type": "execute_result"
    }
   ],
   "source": [
    "df1['BHK'].value_counts()"
   ]
  },
  {
   "cell_type": "code",
   "execution_count": 4,
   "id": "912502d0",
   "metadata": {},
   "outputs": [
    {
     "data": {
      "text/plain": [
       "71"
      ]
     },
     "execution_count": 4,
     "metadata": {},
     "output_type": "execute_result"
    }
   ],
   "source": [
    "(df1['Location'].value_counts()>10).sum()"
   ]
  },
  {
   "cell_type": "code",
   "execution_count": 31,
   "id": "dcc407b3",
   "metadata": {},
   "outputs": [
    {
     "data": {
      "text/plain": [
       "6725"
      ]
     },
     "execution_count": 31,
     "metadata": {},
     "output_type": "execute_result"
    }
   ],
   "source": [
    "df1['Amenities'].isnull().sum()"
   ]
  },
  {
   "cell_type": "code",
   "execution_count": 5,
   "id": "cc92b01e",
   "metadata": {},
   "outputs": [],
   "source": [
    "for i in df1['Price']:\n",
    "    if 'Cr' not in i and 'Lac' not in i and 'Call for Price' not in i:\n",
    "        print(i)\n",
    "        break"
   ]
  },
  {
   "cell_type": "code",
   "execution_count": 8,
   "id": "bf070133",
   "metadata": {},
   "outputs": [],
   "source": [
    "for i in df1['Area']:\n",
    "    i = str(i)\n",
    "    if 'sqft' not in i and '' not in i:\n",
    "        print(i)\n",
    "        break"
   ]
  },
  {
   "cell_type": "code",
   "execution_count": 9,
   "id": "49927d20",
   "metadata": {},
   "outputs": [
    {
     "name": "stderr",
     "output_type": "stream",
     "text": [
      "C:\\Users\\abdea\\AppData\\Local\\Temp\\ipykernel_8172\\2876042804.py:2: FutureWarning: The default value of regex will change from True to False in a future version.\n",
      "  df2['Area'] = pd.to_numeric(df2['Area'].str.replace('[^.0-9]', ''))\n"
     ]
    },
    {
     "data": {
      "text/plain": [
       "0       2300.0\n",
       "1       1226.0\n",
       "2       3050.0\n",
       "3        750.0\n",
       "4       1320.0\n",
       "         ...  \n",
       "6721    1250.0\n",
       "6722     323.0\n",
       "6723     995.0\n",
       "6724    1688.0\n",
       "6725    1200.0\n",
       "Name: Area, Length: 6726, dtype: float64"
      ]
     },
     "execution_count": 9,
     "metadata": {},
     "output_type": "execute_result"
    }
   ],
   "source": [
    "df2 = df1.copy()\n",
    "df2['Area'] = pd.to_numeric(df2['Area'].str.replace('[^.0-9]', ''))\n",
    "df2['Area']"
   ]
  },
  {
   "cell_type": "code",
   "execution_count": 12,
   "id": "2b682739",
   "metadata": {},
   "outputs": [
    {
     "data": {
      "text/plain": [
       "0        650.0\n",
       "1        400.0\n",
       "2       1200.0\n",
       "3        500.0\n",
       "4        406.0\n",
       "         ...  \n",
       "6721     675.0\n",
       "6722      64.0\n",
       "6723     180.0\n",
       "6724     150.0\n",
       "6725     110.0\n",
       "Name: Price, Length: 6726, dtype: float64"
      ]
     },
     "execution_count": 12,
     "metadata": {},
     "output_type": "execute_result"
    }
   ],
   "source": [
    "def convert_price(value):\n",
    "    if 'Cr' in value:\n",
    "        new_value1 = re.sub(re.compile('[^.0-9]'), '', value)\n",
    "        return float(new_value1)*100\n",
    "    elif 'Lac' in value:\n",
    "        new_value2 = re.sub(re.compile('[^.0-9]'), '', value)\n",
    "        return float(new_value2)\n",
    "    else:\n",
    "        return None\n",
    "df3 = df2.copy()\n",
    "df3['Price'] = df3['Price'].apply(convert_price)\n",
    "df3['Price']"
   ]
  },
  {
   "cell_type": "code",
   "execution_count": 15,
   "id": "24dde7cf",
   "metadata": {
    "scrolled": true
   },
   "outputs": [
    {
     "data": {
      "text/plain": [
       "0       4\n",
       "1       4\n",
       "2       4\n",
       "3       2\n",
       "4       4\n",
       "       ..\n",
       "6721    4\n",
       "6722    1\n",
       "6723    3\n",
       "6724    3\n",
       "6725    3\n",
       "Name: BHK, Length: 6726, dtype: int64"
      ]
     },
     "execution_count": 15,
     "metadata": {},
     "output_type": "execute_result"
    }
   ],
   "source": [
    "df4 = df3.copy()\n",
    "df4['BHK'] = pd.to_numeric(df4['BHK'].str.replace('[^.0-9]', ''))\n",
    "df4['BHK']"
   ]
  },
  {
   "cell_type": "code",
   "execution_count": 34,
   "id": "12e1a525",
   "metadata": {},
   "outputs": [],
   "source": [
    "df5 = df4.copy()\n",
    "df5 = df5.drop('Amenities',axis=1)"
   ]
  },
  {
   "cell_type": "code",
   "execution_count": 36,
   "id": "2b3c5235",
   "metadata": {},
   "outputs": [
    {
     "data": {
      "text/plain": [
       "(6611, 75)"
      ]
     },
     "execution_count": 36,
     "metadata": {},
     "output_type": "execute_result"
    }
   ],
   "source": [
    "df6 = df5.copy()\n",
    "Location_stats = df6['Location'].value_counts(ascending=False)\n",
    "Location_stats_less_than_10 = Location_stats[Location_stats<=10]\n",
    "df6.Location = df6.Location.apply(lambda x : 'other' if x in Location_stats_less_than_10 else x)\n",
    "dummies = pd.get_dummies(df6.Location)\n",
    "df6 = pd.concat([df6,dummies.drop('other',axis='columns')],axis='columns')\n",
    "df6 = df6.dropna()\n",
    "df6.shape"
   ]
  },
  {
   "cell_type": "code",
   "execution_count": 49,
   "id": "16e13c54",
   "metadata": {},
   "outputs": [
    {
     "data": {
      "text/html": [
       "<div>\n",
       "<style scoped>\n",
       "    .dataframe tbody tr th:only-of-type {\n",
       "        vertical-align: middle;\n",
       "    }\n",
       "\n",
       "    .dataframe tbody tr th {\n",
       "        vertical-align: top;\n",
       "    }\n",
       "\n",
       "    .dataframe thead th {\n",
       "        text-align: right;\n",
       "    }\n",
       "</style>\n",
       "<table border=\"1\" class=\"dataframe\">\n",
       "  <thead>\n",
       "    <tr style=\"text-align: right;\">\n",
       "      <th></th>\n",
       "      <th>Price</th>\n",
       "    </tr>\n",
       "    <tr>\n",
       "      <th>BHK</th>\n",
       "      <th></th>\n",
       "    </tr>\n",
       "  </thead>\n",
       "  <tbody>\n",
       "    <tr>\n",
       "      <th>0</th>\n",
       "      <td>5309.210526</td>\n",
       "    </tr>\n",
       "    <tr>\n",
       "      <th>1</th>\n",
       "      <td>107.272600</td>\n",
       "    </tr>\n",
       "    <tr>\n",
       "      <th>2</th>\n",
       "      <td>219.031992</td>\n",
       "    </tr>\n",
       "    <tr>\n",
       "      <th>3</th>\n",
       "      <td>406.787676</td>\n",
       "    </tr>\n",
       "    <tr>\n",
       "      <th>4</th>\n",
       "      <td>840.432302</td>\n",
       "    </tr>\n",
       "    <tr>\n",
       "      <th>5</th>\n",
       "      <td>1714.087569</td>\n",
       "    </tr>\n",
       "    <tr>\n",
       "      <th>6</th>\n",
       "      <td>2044.694444</td>\n",
       "    </tr>\n",
       "    <tr>\n",
       "      <th>7</th>\n",
       "      <td>2373.627907</td>\n",
       "    </tr>\n",
       "    <tr>\n",
       "      <th>8</th>\n",
       "      <td>3192.909091</td>\n",
       "    </tr>\n",
       "    <tr>\n",
       "      <th>9</th>\n",
       "      <td>5424.833333</td>\n",
       "    </tr>\n",
       "  </tbody>\n",
       "</table>\n",
       "</div>"
      ],
      "text/plain": [
       "           Price\n",
       "BHK             \n",
       "0    5309.210526\n",
       "1     107.272600\n",
       "2     219.031992\n",
       "3     406.787676\n",
       "4     840.432302\n",
       "5    1714.087569\n",
       "6    2044.694444\n",
       "7    2373.627907\n",
       "8    3192.909091\n",
       "9    5424.833333"
      ]
     },
     "execution_count": 49,
     "metadata": {},
     "output_type": "execute_result"
    }
   ],
   "source": [
    "df6.groupby(['BHK']).mean()[['Price']]"
   ]
  },
  {
   "cell_type": "code",
   "execution_count": 54,
   "id": "d10a5a78",
   "metadata": {},
   "outputs": [
    {
     "data": {
      "text/plain": [
       "array([4, 2, 1, 5, 6, 3, 8, 7, 9], dtype=int64)"
      ]
     },
     "execution_count": 54,
     "metadata": {},
     "output_type": "execute_result"
    }
   ],
   "source": [
    "df6 = df6[df6['BHK']>0]\n",
    "df6['BHK'].unique()"
   ]
  },
  {
   "cell_type": "code",
   "execution_count": 55,
   "id": "7030a378",
   "metadata": {},
   "outputs": [
    {
     "data": {
      "text/plain": [
       "<AxesSubplot:>"
      ]
     },
     "execution_count": 55,
     "metadata": {},
     "output_type": "execute_result"
    },
    {
     "data": {
      "image/png": "[encoded data removed]",
      "text/plain": [
       "<Figure size 1152x648 with 2 Axes>"
      ]
     },
     "metadata": {
      "needs_background": "light"
     },
     "output_type": "display_data"
    }
   ],
   "source": [
    "df_temp = df6[['Price','Area','BHK']]\n",
    "plt.figure(figsize=(16,9))\n",
    "sns.heatmap(df_temp.corr(),cmap='RdYlGn',annot=True)"
   ]
  },
  {
   "cell_type": "code",
   "execution_count": 62,
   "id": "2fa6aca8",
   "metadata": {},
   "outputs": [
    {
     "data": {
      "text/html": [
       "<div>\n",
       "<style scoped>\n",
       "    .dataframe tbody tr th:only-of-type {\n",
       "        vertical-align: middle;\n",
       "    }\n",
       "\n",
       "    .dataframe tbody tr th {\n",
       "        vertical-align: top;\n",
       "    }\n",
       "\n",
       "    .dataframe thead th {\n",
       "        text-align: right;\n",
       "    }\n",
       "</style>\n",
       "<table border=\"1\" class=\"dataframe\">\n",
       "  <thead>\n",
       "    <tr style=\"text-align: right;\">\n",
       "      <th></th>\n",
       "      <th>Price</th>\n",
       "    </tr>\n",
       "    <tr>\n",
       "      <th>Location</th>\n",
       "      <th></th>\n",
       "    </tr>\n",
       "  </thead>\n",
       "  <tbody>\n",
       "    <tr>\n",
       "      <th>Lower Parel, Mumbai - South Mumbai, Maharashtra</th>\n",
       "      <td>3279.166667</td>\n",
       "    </tr>\n",
       "    <tr>\n",
       "      <th>Worli, Mumbai - South Mumbai, Maharashtra</th>\n",
       "      <td>2332.761905</td>\n",
       "    </tr>\n",
       "    <tr>\n",
       "      <th>worli, Worli, Mumbai - South Mumbai, Maharashtra</th>\n",
       "      <td>2287.466667</td>\n",
       "    </tr>\n",
       "    <tr>\n",
       "      <th>Prabhadevi, Mumbai - South Mumbai, Maharashtra</th>\n",
       "      <td>2156.736842</td>\n",
       "    </tr>\n",
       "    <tr>\n",
       "      <th>Prabhadevi, Mumbai, Prabhadevi, Mumbai - South Mumbai, Maharashtra</th>\n",
       "      <td>2076.103448</td>\n",
       "    </tr>\n",
       "    <tr>\n",
       "      <th>Lower Parel, Mumbai, Lower Parel, Mumbai - South Mumbai, Maharashtra</th>\n",
       "      <td>1883.928571</td>\n",
       "    </tr>\n",
       "    <tr>\n",
       "      <th>Jivraj Ramji Boricha Rd, Shastri Nagar, Adarsh Nagar, Lower Parel, Mumbai, Mahalakshmi, Mumbai - South Mumbai, Maharashtra</th>\n",
       "      <td>1681.818182</td>\n",
       "    </tr>\n",
       "    <tr>\n",
       "      <th>Worli, Mumbai, Worli, Mumbai - South Mumbai, Maharashtra</th>\n",
       "      <td>1634.921260</td>\n",
       "    </tr>\n",
       "    <tr>\n",
       "      <th>Gokhale Rd S, Prabhadevi, Mumbai, Maharashtra, Prabhadevi, Mumbai - South Mumbai, Maharashtra</th>\n",
       "      <td>1599.533333</td>\n",
       "    </tr>\n",
       "    <tr>\n",
       "      <th>Bandra West, Mumbai - Western Mumbai, Maharashtra</th>\n",
       "      <td>1560.000000</td>\n",
       "    </tr>\n",
       "    <tr>\n",
       "      <th>Mahalakshmi, Mumbai, Mahalakshmi, Mumbai - South Mumbai, Maharashtra</th>\n",
       "      <td>1477.500000</td>\n",
       "    </tr>\n",
       "    <tr>\n",
       "      <th>Juhu, Juhu, Mumbai - Western Mumbai, Maharashtra</th>\n",
       "      <td>1260.000000</td>\n",
       "    </tr>\n",
       "    <tr>\n",
       "      <th>Bandra East, Mumbai - Western Mumbai, Maharashtra</th>\n",
       "      <td>1143.583333</td>\n",
       "    </tr>\n",
       "    <tr>\n",
       "      <th>Andheri West, Mumbai, Lokhandwala Complex, Mumbai - Western Mumbai, Maharashtra</th>\n",
       "      <td>1079.607143</td>\n",
       "    </tr>\n",
       "    <tr>\n",
       "      <th>Andheri West, Mumbai, Andheri West, Mumbai - Western Mumbai, Maharashtra</th>\n",
       "      <td>971.197368</td>\n",
       "    </tr>\n",
       "    <tr>\n",
       "      <th>Santacruz West, Mumbai - Western Mumbai, Maharashtra</th>\n",
       "      <td>898.181818</td>\n",
       "    </tr>\n",
       "    <tr>\n",
       "      <th>Mahalakshmi, Mumbai - South Mumbai, Maharashtra</th>\n",
       "      <td>865.647059</td>\n",
       "    </tr>\n",
       "    <tr>\n",
       "      <th>Parel, Mumbai, Parel, Mumbai - South Mumbai, Maharashtra</th>\n",
       "      <td>828.529412</td>\n",
       "    </tr>\n",
       "    <tr>\n",
       "      <th>Byculla, Mumbai, Byculla, Mumbai - South Mumbai, Maharashtra</th>\n",
       "      <td>813.230769</td>\n",
       "    </tr>\n",
       "    <tr>\n",
       "      <th>Bandra East, Mumbai, Bandra East, Mumbai - Western Mumbai, Maharashtra</th>\n",
       "      <td>807.647059</td>\n",
       "    </tr>\n",
       "  </tbody>\n",
       "</table>\n",
       "</div>"
      ],
      "text/plain": [
       "                                                          Price\n",
       "Location                                                       \n",
       "Lower Parel, Mumbai - South Mumbai, Maharashtra     3279.166667\n",
       "Worli, Mumbai - South Mumbai, Maharashtra           2332.761905\n",
       "worli, Worli, Mumbai - South Mumbai, Maharashtra    2287.466667\n",
       "Prabhadevi, Mumbai - South Mumbai, Maharashtra      2156.736842\n",
       "Prabhadevi, Mumbai, Prabhadevi, Mumbai - South ...  2076.103448\n",
       "Lower Parel, Mumbai, Lower Parel, Mumbai - Sout...  1883.928571\n",
       "Jivraj Ramji Boricha Rd, Shastri Nagar, Adarsh ...  1681.818182\n",
       "Worli, Mumbai, Worli, Mumbai - South Mumbai, Ma...  1634.921260\n",
       "Gokhale Rd S, Prabhadevi, Mumbai, Maharashtra, ...  1599.533333\n",
       "Bandra West, Mumbai - Western Mumbai, Maharashtra   1560.000000\n",
       "Mahalakshmi, Mumbai, Mahalakshmi, Mumbai - Sout...  1477.500000\n",
       "Juhu, Juhu, Mumbai - Western Mumbai, Maharashtra    1260.000000\n",
       "Bandra East, Mumbai - Western Mumbai, Maharashtra   1143.583333\n",
       "Andheri West, Mumbai, Lokhandwala Complex, Mumb...  1079.607143\n",
       "Andheri West, Mumbai, Andheri West, Mumbai - We...   971.197368\n",
       "Santacruz West, Mumbai - Western Mumbai, Mahara...   898.181818\n",
       "Mahalakshmi, Mumbai - South Mumbai, Maharashtra      865.647059\n",
       "Parel, Mumbai, Parel, Mumbai - South Mumbai, Ma...   828.529412\n",
       "Byculla, Mumbai, Byculla, Mumbai - South Mumbai...   813.230769\n",
       "Bandra East, Mumbai, Bandra East, Mumbai - West...   807.647059"
      ]
     },
     "execution_count": 62,
     "metadata": {},
     "output_type": "execute_result"
    }
   ],
   "source": [
    "df6.groupby(['Location']).mean()[['Price']].sort_values(by='Price',ascending=False).head(20)"
   ]
  },
  {
   "cell_type": "code",
   "execution_count": null,
   "id": "4d95d69c",
   "metadata": {},
   "outputs": [],
   "source": []
  }
 ],
 "metadata": {
  "kernelspec": {
   "display_name": "Python 3 (ipykernel)",
   "language": "python",
   "name": "python3"
  },
  "language_info": {
   "codemirror_mode": {
    "name": "ipython",
    "version": 3
   },
   "file_extension": ".py",
   "mimetype": "text/x-python",
   "name": "python",
   "nbconvert_exporter": "python",
   "pygments_lexer": "ipython3",
   "version": "3.9.12"
  }
 },
 "nbformat": 4,
 "nbformat_minor": 5
}
